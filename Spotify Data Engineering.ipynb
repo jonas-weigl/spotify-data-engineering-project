{
 "cells": [
  {
   "cell_type": "code",
   "execution_count": 1,
   "id": "0616f316",
   "metadata": {
    "scrolled": true
   },
   "outputs": [
    {
     "name": "stdout",
     "output_type": "stream",
     "text": [
      "Collecting spotipy\n",
      "  Downloading spotipy-2.22.1-py3-none-any.whl (28 kB)\n",
      "Requirement already satisfied: six>=1.15.0 in /Users/jonas/opt/anaconda3/lib/python3.9/site-packages (from spotipy) (1.16.0)\n",
      "Requirement already satisfied: requests>=2.25.0 in /Users/jonas/opt/anaconda3/lib/python3.9/site-packages (from spotipy) (2.27.1)\n",
      "Collecting redis>=3.5.3\n",
      "  Downloading redis-4.5.3-py3-none-any.whl (238 kB)\n",
      "\u001b[K     |████████████████████████████████| 238 kB 4.9 MB/s eta 0:00:01\n",
      "\u001b[?25hRequirement already satisfied: urllib3>=1.26.0 in /Users/jonas/opt/anaconda3/lib/python3.9/site-packages (from spotipy) (1.26.9)\n",
      "Collecting async-timeout>=4.0.2\n",
      "  Downloading async_timeout-4.0.2-py3-none-any.whl (5.8 kB)\n",
      "Requirement already satisfied: charset-normalizer~=2.0.0 in /Users/jonas/opt/anaconda3/lib/python3.9/site-packages (from requests>=2.25.0->spotipy) (2.0.4)\n",
      "Requirement already satisfied: certifi>=2017.4.17 in /Users/jonas/opt/anaconda3/lib/python3.9/site-packages (from requests>=2.25.0->spotipy) (2021.10.8)\n",
      "Requirement already satisfied: idna<4,>=2.5 in /Users/jonas/opt/anaconda3/lib/python3.9/site-packages (from requests>=2.25.0->spotipy) (3.3)\n",
      "Installing collected packages: async-timeout, redis, spotipy\n",
      "  Attempting uninstall: async-timeout\n",
      "    Found existing installation: async-timeout 4.0.1\n",
      "    Uninstalling async-timeout-4.0.1:\n",
      "      Successfully uninstalled async-timeout-4.0.1\n",
      "Successfully installed async-timeout-4.0.2 redis-4.5.3 spotipy-2.22.1\n",
      "Note: you may need to restart the kernel to use updated packages.\n"
     ]
    }
   ],
   "source": [
    "pip install spotipy"
   ]
  },
  {
   "cell_type": "code",
   "execution_count": 6,
   "id": "07586702",
   "metadata": {},
   "outputs": [
    {
     "data": {
      "text/plain": [
       "'3.9.12 (main, Apr  5 2022, 01:53:17) \\n[Clang 12.0.0 ]'"
      ]
     },
     "execution_count": 6,
     "metadata": {},
     "output_type": "execute_result"
    }
   ],
   "source": [
    "import sys\n",
    "sys.version"
   ]
  },
  {
   "cell_type": "code",
   "execution_count": 2,
   "id": "03b8f532",
   "metadata": {},
   "outputs": [],
   "source": [
    "import spotipy\n",
    "from spotipy.oauth2 import SpotifyClientCredentials"
   ]
  },
  {
   "cell_type": "code",
   "execution_count": 3,
   "id": "2fd84fd9",
   "metadata": {},
   "outputs": [],
   "source": [
    "client_credentials_manager = SpotifyClientCredentials(client_id='b8c745c2ef74403f8a25f7b780d448b2', client_secret='bc7062d4925c4a6183f62d3bc7a7518f')\n",
    "# Authentication"
   ]
  },
  {
   "cell_type": "code",
   "execution_count": 5,
   "id": "5f99be3c",
   "metadata": {},
   "outputs": [],
   "source": [
    "sp = spotipy.Spotify (client_credentials_manager = client_credentials_manager)\n",
    "# Authorization"
   ]
  },
  {
   "cell_type": "code",
   "execution_count": 6,
   "id": "495d4242",
   "metadata": {},
   "outputs": [],
   "source": [
    "playlist_link = 'https://open.spotify.com/playlist/37i9dQZF1DX4jP4eebSWR9'"
   ]
  },
  {
   "cell_type": "code",
   "execution_count": 11,
   "id": "25c49ba6",
   "metadata": {},
   "outputs": [],
   "source": [
    "playlist_url = playlist_link.split('/')[4]"
   ]
  },
  {
   "cell_type": "code",
   "execution_count": 18,
   "id": "ddc68e0d",
   "metadata": {},
   "outputs": [],
   "source": [
    "data = sp.playlist_tracks(playlist_url)"
   ]
  },
  {
   "cell_type": "code",
   "execution_count": 41,
   "id": "32daa7ac",
   "metadata": {},
   "outputs": [
    {
     "data": {
      "text/plain": [
       "'2XWoQ5VUcmGYL1025mZ5dO'"
      ]
     },
     "execution_count": 41,
     "metadata": {},
     "output_type": "execute_result"
    }
   ],
   "source": [
    "data['items'][0]['track']['album']['id']"
   ]
  },
  {
   "cell_type": "code",
   "execution_count": 42,
   "id": "fd9fb2d0",
   "metadata": {},
   "outputs": [
    {
     "data": {
      "text/plain": [
       "'Komet'"
      ]
     },
     "execution_count": 42,
     "metadata": {},
     "output_type": "execute_result"
    }
   ],
   "source": [
    "data['items'][0]['track']['album']['name']"
   ]
  },
  {
   "cell_type": "code",
   "execution_count": 44,
   "id": "546401ed",
   "metadata": {},
   "outputs": [
    {
     "data": {
      "text/plain": [
       "'2023-01-19'"
      ]
     },
     "execution_count": 44,
     "metadata": {},
     "output_type": "execute_result"
    }
   ],
   "source": [
    "data['items'][0]['track']['album']['release_date']"
   ]
  },
  {
   "cell_type": "code",
   "execution_count": 45,
   "id": "642e8dfb",
   "metadata": {},
   "outputs": [
    {
     "data": {
      "text/plain": [
       "1"
      ]
     },
     "execution_count": 45,
     "metadata": {},
     "output_type": "execute_result"
    }
   ],
   "source": [
    "data['items'][0]['track']['album']['total_tracks']"
   ]
  },
  {
   "cell_type": "code",
   "execution_count": 47,
   "id": "248e200d",
   "metadata": {},
   "outputs": [
    {
     "data": {
      "text/plain": [
       "'https://open.spotify.com/album/2XWoQ5VUcmGYL1025mZ5dO'"
      ]
     },
     "execution_count": 47,
     "metadata": {},
     "output_type": "execute_result"
    }
   ],
   "source": [
    "data['items'][0]['track']['album']['external_urls']['spotify']"
   ]
  },
  {
   "cell_type": "code",
   "execution_count": 70,
   "id": "f5d0a67d",
   "metadata": {},
   "outputs": [],
   "source": [
    "album_list = []\n",
    "for everyrow in data['items']:\n",
    "    album_id = everyrow['track']['album']['id']\n",
    "    album_name = everyrow['track']['album']['name']\n",
    "    album_release_date = everyrow['track']['album']['release_date']\n",
    "    album_total_tracks = everyrow['track']['album']['total_tracks']\n",
    "    album_url = everyrow['track']['album']['external_urls']['spotify']\n",
    "    album_elements = {'album_id': album_id, 'album_name': album_name,\n",
    "                      'album_release_date': album_release_date, 'album_total_tracks': album_total_tracks,\n",
    "                     'album_url': album_url}\n",
    "    album_list.append(album_elements)"
   ]
  },
  {
   "cell_type": "code",
   "execution_count": null,
   "id": "ad222992",
   "metadata": {},
   "outputs": [],
   "source": [
    "artist_list = []\n",
    "for row in data['items']:\n",
    "    for key, value in row.items():\n",
    "        if key == \"track\":\n",
    "            for artist in value['artists']:\n",
    "                artist_dict = {'artist_id':artist['id'], 'artist_name':artist['name'], 'external_url': artist['href']}\n",
    "                artist_list.append(artist_dict)"
   ]
  },
  {
   "cell_type": "code",
   "execution_count": null,
   "id": "5ca80345",
   "metadata": {},
   "outputs": [],
   "source": [
    "song_list = []\n",
    "for row in data['items']:\n",
    "    song_id = row['track']['id']\n",
    "    song_name = row['track']['name']\n",
    "    song_duration = row['track']['duration_ms']\n",
    "    song_url = row['track']['external_urls']['spotify']\n",
    "    song_popularity = row['track']['popularity']\n",
    "    song_added = row['added_at']\n",
    "    album_id = row['track']['album']['id']\n",
    "    artist_id = row['track']['album']['artists'][0]['id']\n",
    "    song_element = {'song_id':song_id,'song_name':song_name,'duration_ms':song_duration,'url':song_url,\n",
    "                    'popularity':song_popularity,'song_added':song_added,'album_id':album_id,\n",
    "                    'artist_id':artist_id\n",
    "                   }\n",
    "    song_list.append(song_element)"
   ]
  },
  {
   "cell_type": "code",
   "execution_count": 76,
   "id": "7f2eeca0",
   "metadata": {},
   "outputs": [],
   "source": [
    "import pandas as pd\n",
    "album_df = pd.DataFrame.from_dict(album_list)"
   ]
  },
  {
   "cell_type": "code",
   "execution_count": 77,
   "id": "899aa4ac",
   "metadata": {},
   "outputs": [
    {
     "name": "stdout",
     "output_type": "stream",
     "text": [
      "<class 'pandas.core.frame.DataFrame'>\n",
      "RangeIndex: 50 entries, 0 to 49\n",
      "Data columns (total 5 columns):\n",
      " #   Column              Non-Null Count  Dtype \n",
      "---  ------              --------------  ----- \n",
      " 0   album_id            50 non-null     object\n",
      " 1   album_name          50 non-null     object\n",
      " 2   album_release_date  50 non-null     object\n",
      " 3   album_total_tracks  50 non-null     int64 \n",
      " 4   album_url           50 non-null     object\n",
      "dtypes: int64(1), object(4)\n",
      "memory usage: 2.1+ KB\n"
     ]
    }
   ],
   "source": [
    "album_df.info()"
   ]
  },
  {
   "cell_type": "code",
   "execution_count": 78,
   "id": "c9b012c7",
   "metadata": {},
   "outputs": [],
   "source": [
    "album_df = album_df.drop_duplicates(subset=['album_id'])"
   ]
  },
  {
   "cell_type": "code",
   "execution_count": null,
   "id": "a340e066",
   "metadata": {},
   "outputs": [],
   "source": []
  }
 ],
 "metadata": {
  "kernelspec": {
   "display_name": "Python 3 (ipykernel)",
   "language": "python",
   "name": "python3"
  },
  "language_info": {
   "codemirror_mode": {
    "name": "ipython",
    "version": 3
   },
   "file_extension": ".py",
   "mimetype": "text/x-python",
   "name": "python",
   "nbconvert_exporter": "python",
   "pygments_lexer": "ipython3",
   "version": "3.9.12"
  }
 },
 "nbformat": 4,
 "nbformat_minor": 5
}
